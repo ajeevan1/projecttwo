{
 "cells": [
  {
   "cell_type": "code",
   "execution_count": null,
   "id": "6df6511f-357c-4773-abe9-280fb75f5cb2",
   "metadata": {},
   "outputs": [],
   "source": [
    "#Function 2- User puts in country code of their choice, function returns city of that country\n",
    "inp = input('Enter 3-letter code of your country of choice (for eg: USA for United States):') \n",
    "inp1=inp.upper() #Countrycode in the database is all in uppercase. So, using this function to capitalize all the letters of input\n",
    "if len(inp1)!= 0:\n",
    "    print(\"List of cities belonging to\", inp1,\"are listed below along with their district and population\")\n",
    "\n",
    "    query=select([city.c.ID, city.c.CountryCode,city.c.Name, city.c.District,city.c.Population])\\\n",
    "             .where(city.c.CountryCode== inp1)\\\n",
    "             .order_by(desc(city.c.Population))\\\n",
    "             \n",
    "    result = conn.execute(query)\n",
    "    for row in result:\n",
    "        print(row)\n",
    "else:\n",
    "    print('No entry provided. Please enter a valid CountryCode for eg: USA for United States')"
   ]
  },
  {
   "cell_type": "code",
   "execution_count": null,
   "id": "adf8282e-6378-49c1-9794-5504249d0b1f",
   "metadata": {},
   "outputs": [],
   "source": []
  },
  {
   "cell_type": "code",
   "execution_count": null,
   "id": "82f602b8-0dd6-4c28-ad0a-fe8da2314649",
   "metadata": {},
   "outputs": [],
   "source": []
  },
  {
   "cell_type": "code",
   "execution_count": null,
   "id": "f73e3c76-af16-45b0-9c61-2f8c633d8388",
   "metadata": {},
   "outputs": [],
   "source": []
  },
  {
   "cell_type": "code",
   "execution_count": null,
   "id": "efde216e-5b63-4722-aeb7-b11f58d52d41",
   "metadata": {},
   "outputs": [],
   "source": []
  }
 ],
 "metadata": {
  "kernelspec": {
   "display_name": "Python 3 (ipykernel)",
   "language": "python",
   "name": "python3"
  },
  "language_info": {
   "codemirror_mode": {
    "name": "ipython",
    "version": 3
   },
   "file_extension": ".py",
   "mimetype": "text/x-python",
   "name": "python",
   "nbconvert_exporter": "python",
   "pygments_lexer": "ipython3",
   "version": "3.8.1"
  }
 },
 "nbformat": 4,
 "nbformat_minor": 5
}
