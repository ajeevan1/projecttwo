{
 "cells": [
  {
   "cell_type": "code",
   "execution_count": null,
   "id": "43f745cb-8207-4df3-9e49-b72e40aef50e",
   "metadata": {},
   "outputs": [],
   "source": [
    "#!/usr/bin/env python\n",
    "from sqlalchemy import create_engine\n",
    "from sqlalchemy import MetaData\n",
    "from sqlalchemy import Table, Column\n",
    "from sqlalchemy import Integer, String\n",
    "from sqlalchemy import sql, select, join, desc\n",
    "from sqlalchemy import and_\n",
    "import string\n",
    "\n",
    "print('done')"
   ]
  },
  {
   "cell_type": "code",
   "execution_count": null,
   "id": "4305fb17-a6a9-49e8-a170-d57fa0920a8a",
   "metadata": {},
   "outputs": [],
   "source": [
    "# Creating a Engine object which is our handle into the database.\n",
    "engine = create_engine('sqlite:///world.sqlite')\n",
    "# Connecting to the database\n",
    "conn = engine.connect()\n",
    "\n",
    "# Read the metadata from the existing database.\n",
    "#  Since the database already exists and has tables defined, we can create Python objects based on these automatically.\n",
    "DBInfo=MetaData(engine)"
   ]
  },
  {
   "cell_type": "code",
   "execution_count": null,
   "id": "bf57772c-8a06-4d00-880b-5a3114489abf",
   "metadata": {},
   "outputs": [],
   "source": [
    "# Auto-creating the country,city and language object basedon the metadata read into the DBInfo.\n",
    "country=Table('country', DBInfo, autoload=True)\n",
    "city=Table('city', DBInfo, autoload=True)\n",
    "language=Table('countrylanguage', DBInfo, autoload=True)"
   ]
  },
  {
   "cell_type": "code",
   "execution_count": null,
   "id": "c60cf143-1635-4e7c-99ac-78570da3e586",
   "metadata": {},
   "outputs": [],
   "source": [
    "#Function 2- USer inputs 3-letter country code of their choice, with the function returning all cities be\n",
    "inp = input('Enter 3-letter code of your country of choice (for eg: USA for United States):') \n",
    "inp1=inp.upper() #Countrycode in the database is all in uppercase. So, using this function to capitalize all the letters of input\n",
    "if len(inp1)!= 0:\n",
    "    print(\"List of cities belonging to\", inp1,\"are listed below along with their district and population\")\n",
    "\n",
    "    query=select([city.c.ID, city.c.CountryCode,city.c.Name, city.c.District,city.c.Population])\\\n",
    "             .where(city.c.CountryCode== inp1)\\\n",
    "             .order_by(desc(city.c.Population))\\\n",
    "             \n",
    "    result = conn.execute(query)\n",
    "    for row in result:\n",
    "        print(row)\n",
    "else:\n",
    "    print('No entry provided. Please enter a valid CountryCode for eg: USA for United States')"
   ]
  }
 ],
 "metadata": {
  "kernelspec": {
   "display_name": "Python 3 (ipykernel)",
   "language": "python",
   "name": "python3"
  },
  "language_info": {
   "codemirror_mode": {
    "name": "ipython",
    "version": 3
   },
   "file_extension": ".py",
   "mimetype": "text/x-python",
   "name": "python",
   "nbconvert_exporter": "python",
   "pygments_lexer": "ipython3",
   "version": "3.8.1"
  }
 },
 "nbformat": 4,
 "nbformat_minor": 5
}
