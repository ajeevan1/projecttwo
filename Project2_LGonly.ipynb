{
 "cells": [
  {
   "cell_type": "code",
   "execution_count": 1,
   "id": "42720d33-f809-4a06-816f-ed0ad64e0d39",
   "metadata": {},
   "outputs": [
    {
     "name": "stdout",
     "output_type": "stream",
     "text": [
      "done\n"
     ]
    }
   ],
   "source": [
    "#!/usr/bin/env python\n",
    "from sqlalchemy import create_engine\n",
    "from sqlalchemy import MetaData\n",
    "from sqlalchemy import Table, Column\n",
    "from sqlalchemy import Integer, String\n",
    "from sqlalchemy import sql, select, join, desc\n",
    "from sqlalchemy import and_\n",
    "import string\n",
    "\n",
    "print('done')\n",
    "\n"
   ]
  },
  {
   "cell_type": "code",
   "execution_count": 2,
   "id": "d9444aed-3a5e-44c4-b24f-e1c271b2b9eb",
   "metadata": {},
   "outputs": [],
   "source": [
    "# Creating a Engine object which is our handle into the database.\n",
    "engine = create_engine('sqlite:///world.sqlite')\n",
    "# Connecting to the database\n",
    "conn = engine.connect()\n",
    "\n",
    "# Read the metadata from the existing database.\n",
    "#  Since the database already exists and has tables defined, we can create Python objects based on these automatically.\n",
    "DBInfo=MetaData(engine)\n"
   ]
  },
  {
   "cell_type": "code",
   "execution_count": 3,
   "id": "b9f160d0-2d91-4bfd-84f7-16b0c17224b6",
   "metadata": {},
   "outputs": [],
   "source": [
    "# Auto-creating the country,city and language object basedon the metadata read into the DBInfo.\n",
    "country=Table('country', DBInfo, autoload=True)\n",
    "city=Table('city', DBInfo, autoload=True)\n",
    "language=Table('countrylanguage', DBInfo, autoload=True)"
   ]
  },
  {
   "cell_type": "markdown",
   "id": "817de1af-4cbe-40e6-a2a8-dd7e82f6d2f3",
   "metadata": {},
   "source": [
    "**Using join**\n",
    "\n",
    "1. User inputs country of their choice\n",
    "\n",
    "2. Function binds the country table and countrylanguage table and extracts only the official language of that country from countrylanguage table\n",
    "\n",
    "3. Finally the result shows details of the inputted country with added official language detail from the countrylanguage table"
   ]
  },
  {
   "cell_type": "code",
   "execution_count": 4,
   "id": "8e66dbd8-3341-4f96-8d1d-8c3148f64ba1",
   "metadata": {},
   "outputs": [
    {
     "name": "stdin",
     "output_type": "stream",
     "text": [
      "Enter country of choice (please enter full name of the country you are interested): Nepal\n"
     ]
    },
    {
     "name": "stdout",
     "output_type": "stream",
     "text": [
      "Country, Continent, Year of independence,Population,Form of the Government and Official langugage of Nepal respectively is:\n",
      "('Nepal', 'Asia', 1769, 23930000, 'Constitutional Monarchy', 'Nepali')\n"
     ]
    }
   ],
   "source": [
    "\n",
    "inp = input('Enter country of choice (please enter full name of the country you are interested):') \n",
    "inp1=string.capwords(inp)\n",
    "\n",
    "\n",
    "if len(inp1)!= 0:\n",
    "    query=(select([country.c.Name, country.c.Continent,country.c.IndepYear,country.c.Population,country.c.GovernmentForm, language.c.Language])\\\n",
    "      .select_from(country.join(language)).where(and_(country.c.Name==inp1, language.c.IsOfficial=='T'))\\\n",
    "      .order_by(desc(country.c.Population)))\n",
    "    result = conn.execute(query)\n",
    "    for row in result:\n",
    "        print('Country, Continent, Year of independence,Population,Form of the Government and Official langugage of',inp1, 'respectively is:')\n",
    "        print(row)"
   ]
  },
  {
   "cell_type": "code",
   "execution_count": null,
   "id": "e85ae844-f68e-496d-980f-14d453aa7303",
   "metadata": {},
   "outputs": [],
   "source": [
    "\n"
   ]
  },
  {
   "cell_type": "code",
   "execution_count": null,
   "id": "da1da94c-7b3a-4abd-9b53-ba8139c5e130",
   "metadata": {},
   "outputs": [],
   "source": []
  }
 ],
 "metadata": {
  "kernelspec": {
   "display_name": "UFRC Python-3.10",
   "language": "python",
   "name": "python3-3.10-ufrc"
  },
  "language_info": {
   "codemirror_mode": {
    "name": "ipython",
    "version": 3
   },
   "file_extension": ".py",
   "mimetype": "text/x-python",
   "name": "python",
   "nbconvert_exporter": "python",
   "pygments_lexer": "ipython3",
   "version": "3.10.5"
  }
 },
 "nbformat": 4,
 "nbformat_minor": 5
}
