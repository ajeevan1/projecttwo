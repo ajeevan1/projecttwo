{
 "cells": [
  {
   "cell_type": "code",
   "execution_count": 252,
   "id": "42720d33-f809-4a06-816f-ed0ad64e0d39",
   "metadata": {},
   "outputs": [
    {
     "name": "stdout",
     "output_type": "stream",
     "text": [
      "done\n"
     ]
    }
   ],
   "source": [
    "#!/usr/bin/env python\n",
    "from sqlalchemy import create_engine\n",
    "from sqlalchemy import MetaData\n",
    "from sqlalchemy import Table, Column\n",
    "from sqlalchemy import Integer, String\n",
    "from sqlalchemy import sql, select, join, desc\n",
    "from sqlalchemy import and_\n",
    "import string\n",
    "\n",
    "print('done')\n",
    "\n"
   ]
  },
  {
   "cell_type": "code",
   "execution_count": 253,
   "id": "d9444aed-3a5e-44c4-b24f-e1c271b2b9eb",
   "metadata": {},
   "outputs": [],
   "source": [
    "# Creating a Engine object which is our handle into the database.\n",
    "engine = create_engine('sqlite:///world.sqlite')\n",
    "# Connecting to the database\n",
    "conn = engine.connect()\n",
    "\n",
    "# Read the metadata from the existing database.\n",
    "#  Since the database already exists and has tables defined, we can create Python objects based on these automatically.\n",
    "DBInfo=MetaData(engine)\n"
   ]
  },
  {
   "cell_type": "code",
   "execution_count": 254,
   "id": "b9f160d0-2d91-4bfd-84f7-16b0c17224b6",
   "metadata": {},
   "outputs": [],
   "source": [
    "# Auto-creating the country,city and language object basedon the metadata read into the DBInfo.\n",
    "country=Table('country', DBInfo, autoload=True)\n",
    "city=Table('city', DBInfo, autoload=True)\n",
    "language=Table('countrylanguage', DBInfo, autoload=True)"
   ]
  },
  {
   "cell_type": "markdown",
   "id": "54b8f6d8-0e85-453d-931e-d1215115f3e9",
   "metadata": {},
   "source": [
    "**Function 1: User inputs continent of their choice, function returns all the countries belonging to that continent with some details**"
   ]
  },
  {
   "cell_type": "code",
   "execution_count": 256,
   "id": "b6352514-c9db-4c9d-b36b-6082a0202f1e",
   "metadata": {},
   "outputs": [
    {
     "name": "stdin",
     "output_type": "stream",
     "text": [
      "Enter your continent of choice: asia\n"
     ]
    },
    {
     "name": "stdout",
     "output_type": "stream",
     "text": [
      "List of countries with their details located in  Asia are listed below\n",
      "('CHN', 'China', 'Asia', -1523, 1277558000, \"People'sRepublic\")\n",
      "('IND', 'India', 'Asia', 1947, 1013662000, 'Federal Republic')\n",
      "('IDN', 'Indonesia', 'Asia', 1945, 212107000, 'Republic')\n",
      "('PAK', 'Pakistan', 'Asia', 1947, 156483000, 'Republic')\n",
      "('BGD', 'Bangladesh', 'Asia', 1971, 129155000, 'Republic')\n",
      "('JPN', 'Japan', 'Asia', -660, 126714000, 'Constitutional Monarchy')\n",
      "('VNM', 'Vietnam', 'Asia', 1945, 79832000, 'Socialistic Republic')\n",
      "('PHL', 'Philippines', 'Asia', 1946, 75967000, 'Republic')\n",
      "('IRN', 'Iran', 'Asia', 1906, 67702000, 'Islamic Republic')\n",
      "('TUR', 'Turkey', 'Asia', 1923, 66591000, 'Republic')\n",
      "('THA', 'Thailand', 'Asia', 1350, 61399000, 'Constitutional Monarchy')\n",
      "('KOR', 'South Korea', 'Asia', 1948, 46844000, 'Republic')\n",
      "('MMR', 'Myanmar', 'Asia', 1948, 45611000, 'Republic')\n",
      "('UZB', 'Uzbekistan', 'Asia', 1991, 24318000, 'Republic')\n",
      "('PRK', 'North Korea', 'Asia', 1948, 24039000, 'Socialistic Republic')\n",
      "('NPL', 'Nepal', 'Asia', 1769, 23930000, 'Constitutional Monarchy')\n",
      "('IRQ', 'Iraq', 'Asia', 1932, 23115000, 'Republic')\n",
      "('AFG', 'Afghanistan', 'Asia', 1919, 22720000, 'Islamic Emirate')\n",
      "('TWN', 'Taiwan', 'Asia', 1945, 22256000, 'Republic')\n",
      "('MYS', 'Malaysia', 'Asia', 1957, 22244000, 'Constitutional Monarchy, Federation')\n",
      "('SAU', 'Saudi Arabia', 'Asia', 1932, 21607000, 'Monarchy')\n",
      "('LKA', 'Sri Lanka', 'Asia', 1948, 18827000, 'Republic')\n",
      "('YEM', 'Yemen', 'Asia', 1918, 18112000, 'Republic')\n",
      "('KAZ', 'Kazakstan', 'Asia', 1991, 16223000, 'Republic')\n",
      "('SYR', 'Syria', 'Asia', 1941, 16125000, 'Republic')\n",
      "('KHM', 'Cambodia', 'Asia', 1953, 11168000, 'Constitutional Monarchy')\n",
      "('AZE', 'Azerbaijan', 'Asia', 1991, 7734000, 'Federal Republic')\n",
      "('HKG', 'Hong Kong', 'Asia', None, 6782000, 'Special Administrative Region of China')\n",
      "('ISR', 'Israel', 'Asia', 1948, 6217000, 'Republic')\n",
      "('TJK', 'Tajikistan', 'Asia', 1991, 6188000, 'Republic')\n",
      "('LAO', 'Laos', 'Asia', 1953, 5433000, 'Republic')\n",
      "('JOR', 'Jordan', 'Asia', 1946, 5083000, 'Constitutional Monarchy')\n",
      "('GEO', 'Georgia', 'Asia', 1991, 4968000, 'Republic')\n",
      "('KGZ', 'Kyrgyzstan', 'Asia', 1991, 4699000, 'Republic')\n",
      "('TKM', 'Turkmenistan', 'Asia', 1991, 4459000, 'Republic')\n",
      "('SGP', 'Singapore', 'Asia', 1965, 3567000, 'Republic')\n",
      "('ARM', 'Armenia', 'Asia', 1991, 3520000, 'Republic')\n",
      "('LBN', 'Lebanon', 'Asia', 1941, 3282000, 'Republic')\n",
      "('PSE', 'Palestine', 'Asia', None, 3101000, 'Autonomous Area')\n",
      "('MNG', 'Mongolia', 'Asia', 1921, 2662000, 'Republic')\n",
      "('OMN', 'Oman', 'Asia', 1951, 2542000, 'Monarchy (Sultanate)')\n",
      "('ARE', 'United Arab Emirates', 'Asia', 1971, 2441000, 'Emirate Federation')\n",
      "('BTN', 'Bhutan', 'Asia', 1910, 2124000, 'Monarchy')\n",
      "('KWT', 'Kuwait', 'Asia', 1961, 1972000, 'Constitutional Monarchy (Emirate)')\n",
      "('TMP', 'East Timor', 'Asia', None, 885000, 'Administrated by the UN')\n",
      "('CYP', 'Cyprus', 'Asia', 1960, 754700, 'Republic')\n",
      "('BHR', 'Bahrain', 'Asia', 1971, 617000, 'Monarchy (Emirate)')\n",
      "('QAT', 'Qatar', 'Asia', 1971, 599000, 'Monarchy')\n",
      "('MAC', 'Macao', 'Asia', None, 473000, 'Special Administrative Region of China')\n",
      "('BRN', 'Brunei', 'Asia', 1984, 328000, 'Monarchy (Sultanate)')\n",
      "('MDV', 'Maldives', 'Asia', 1965, 286000, 'Republic')\n"
     ]
    }
   ],
   "source": [
    "##Function 1: User inputs continent, results displays all the countries belonging to that continent with some details\n",
    "inp = input('Enter your continent of choice:') \n",
    "inp1=string.capwords(inp) #continent names in database have first letter capital so, using this function\n",
    "if len(inp1)!= 0: #no results if no input is give\n",
    "    print(\"List of countries with their details located in \", inp1,\"are listed below\")\n",
    "\n",
    "    query=select([country.c.Code, country.c.Name, country.c.Continent,country.c.IndepYear,country.c.Population,country.c.GovernmentForm,])\\\n",
    "             .where(country.c.Continent== inp1)\\\n",
    "             .order_by(desc(country.c.Population))\\\n",
    "             \n",
    "    result = conn.execute(query)\n",
    "    for row in result:\n",
    "        print(row)\n",
    "else:\n",
    "    print('No input was provided. Please provide a valid continent name')"
   ]
  },
  {
   "cell_type": "markdown",
   "id": "817de1af-4cbe-40e6-a2a8-dd7e82f6d2f3",
   "metadata": {},
   "source": [
    "**Function 2: User inputs 3-letter country code of their choice, function returns all the cities belonging to that country with some details**"
   ]
  },
  {
   "cell_type": "code",
   "execution_count": 261,
   "id": "8e66dbd8-3341-4f96-8d1d-8c3148f64ba1",
   "metadata": {},
   "outputs": [
    {
     "name": "stdin",
     "output_type": "stream",
     "text": [
      "Enter 3-letter code of your country of choice (for eg: USA for United States): \n"
     ]
    },
    {
     "name": "stdout",
     "output_type": "stream",
     "text": [
      "No entry provided. Please enter a valid CountryCode for eg: USA for United States\n"
     ]
    }
   ],
   "source": [
    "inp = input('Enter 3-letter code of your country of choice (for eg: USA for United States):') \n",
    "inp1=inp.upper() #Countrycode in the database is all in uppercase. So, using this function to capitalize all the letters of input\n",
    "if len(inp1)!= 0:\n",
    "    print(\"List of cities belonging to\", inp1,\"are listed below along with their district and population\")\n",
    "\n",
    "    query=select([city.c.ID, city.c.CountryCode,city.c.Name, city.c.District,city.c.Population])\\\n",
    "             .where(city.c.CountryCode== inp1)\\\n",
    "             .order_by(desc(city.c.Population))\\\n",
    "             \n",
    "    result = conn.execute(query)\n",
    "    for row in result:\n",
    "        print(row)\n",
    "else:\n",
    "    print('No entry provided. Please enter a valid CountryCode for eg: USA for United States')"
   ]
  },
  {
   "cell_type": "markdown",
   "id": "340cc229-af77-40fb-83db-ceb1fa8bc1e6",
   "metadata": {},
   "source": [
    "**Using join**\n",
    "\n",
    "1. User inputs country of their choice\n",
    "\n",
    "2. Function binds the country table and countrylanguage table and extracts only the official language of that country from countrylanguage table\n",
    "\n",
    "3. Finally the result shows details of the inputted country with added official language detail from the countrylanguage table"
   ]
  },
  {
   "cell_type": "code",
   "execution_count": 262,
   "id": "e85ae844-f68e-496d-980f-14d453aa7303",
   "metadata": {},
   "outputs": [
    {
     "name": "stdin",
     "output_type": "stream",
     "text": [
      "Enter country of choice (please enter full name of the country you are interested): nepal\n"
     ]
    },
    {
     "name": "stdout",
     "output_type": "stream",
     "text": [
      "Country, Continent, Year of independence,Population,Form of the Government and Official langugage of Nepal respectively is:\n",
      "('Nepal', 'Asia', 1769, 23930000, 'Constitutional Monarchy', 'Nepali')\n"
     ]
    }
   ],
   "source": [
    "\n",
    "inp = input('Enter country of choice (please enter full name of the country you are interested):') \n",
    "inp1=string.capwords(inp)\n",
    "\n",
    "\n",
    "if len(inp1)!= 0:\n",
    "    query=(select([country.c.Name, country.c.Continent,country.c.IndepYear,country.c.Population,country.c.GovernmentForm, language.c.Language])\\\n",
    "      .select_from(country.join(language)).where(and_(country.c.Name==inp1, language.c.IsOfficial=='T'))\\\n",
    "      .order_by(desc(country.c.Population)))\n",
    "    result = conn.execute(query)\n",
    "    for row in result:\n",
    "        print('Country, Continent, Year of independence,Population,Form of the Government and Official langugage of',inp1, 'respectively is:')\n",
    "        print(row)\n",
    "    "
   ]
  },
  {
   "cell_type": "code",
   "execution_count": null,
   "id": "da1da94c-7b3a-4abd-9b53-ba8139c5e130",
   "metadata": {},
   "outputs": [],
   "source": []
  }
 ],
 "metadata": {
  "kernelspec": {
   "display_name": "UFRC Python-3.10",
   "language": "python",
   "name": "python3-3.10-ufrc"
  },
  "language_info": {
   "codemirror_mode": {
    "name": "ipython",
    "version": 3
   },
   "file_extension": ".py",
   "mimetype": "text/x-python",
   "name": "python",
   "nbconvert_exporter": "python",
   "pygments_lexer": "ipython3",
   "version": "3.10.5"
  }
 },
 "nbformat": 4,
 "nbformat_minor": 5
}
